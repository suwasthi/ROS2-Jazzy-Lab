{
 "cells": [
  {
   "cell_type": "markdown",
   "metadata": {},
   "source": [
    "# Week 1 Lab Assignments\n",
    "\n",
    "You are required to implement the following functions:\n",
    "- `homogenous_transform_2D` - Perform homogenous transformations for a 2D system\n",
    "- `homogenous_transform_3D` - Perform homogenous transformations for a 3D system\n",
    "- `chain_transforms` - Perform a chain of 3D transformations in the given order\n"
   ]
  },
  {
   "cell_type": "code",
   "execution_count": 1,
   "metadata": {},
   "outputs": [
    {
     "ename": "ModuleNotFoundError",
     "evalue": "No module named 'numpy'",
     "output_type": "error",
     "traceback": [
      "\u001b[1;31m---------------------------------------------------------------------------\u001b[0m",
      "\u001b[1;31mModuleNotFoundError\u001b[0m                       Traceback (most recent call last)",
      "Cell \u001b[1;32mIn[1], line 2\u001b[0m\n\u001b[0;32m      1\u001b[0m \u001b[38;5;66;03m# import required libraries\u001b[39;00m\n\u001b[1;32m----> 2\u001b[0m \u001b[38;5;28;01mimport\u001b[39;00m\u001b[38;5;250m \u001b[39m\u001b[38;5;21;01mnumpy\u001b[39;00m\u001b[38;5;250m \u001b[39m\u001b[38;5;28;01mas\u001b[39;00m\u001b[38;5;250m \u001b[39m\u001b[38;5;21;01mnp\u001b[39;00m\n\u001b[0;32m      3\u001b[0m \u001b[38;5;28;01mimport\u001b[39;00m\u001b[38;5;250m \u001b[39m\u001b[38;5;21;01mmatplotlib\u001b[39;00m\u001b[38;5;21;01m.\u001b[39;00m\u001b[38;5;21;01mpyplot\u001b[39;00m\u001b[38;5;250m \u001b[39m\u001b[38;5;28;01mas\u001b[39;00m\u001b[38;5;250m \u001b[39m\u001b[38;5;21;01mplt\u001b[39;00m\n\u001b[0;32m      4\u001b[0m \u001b[38;5;66;03m# To render plots inline\u001b[39;00m\n",
      "\u001b[1;31mModuleNotFoundError\u001b[0m: No module named 'numpy'"
     ]
    }
   ],
   "source": [
    "# import required libraries\n",
    "import numpy as np\n",
    "import matplotlib.pyplot as plt\n",
    "# To render plots inline\n",
    "%matplotlib inline\n",
    "\n",
    "# For unit tests\n",
    "from tester import LabTester\n",
    "lab_tester = LabTester()"
   ]
  },
  {
   "cell_type": "code",
   "execution_count": 2,
   "metadata": {},
   "outputs": [],
   "source": [
    "# Homogenous 2D Transformation\n",
    "def homogenous_transform_2D(V:np.ndarray, U:np.ndarray, theta:float) -> np.ndarray:\n",
    "    \"\"\"\n",
    "    Input:\n",
    "        V       - initial vector\n",
    "        U       - translation vector\n",
    "        theta   - angle in degrees\n",
    "    Output: resulting coordinates after rotating V by theta and translating by U\n",
    "    \"\"\"\n",
    "\n",
    "    # Your code here\n",
    "\n",
    "    # Convert angle to radians\n",
    "    theta_rad = np.radians(theta)\n",
    "    \n",
    "    # Rotation matrix for 2D\n",
    "    R = np.array([\n",
    "        [np.cos(theta_rad), -np.sin(theta_rad)],\n",
    "        [np.sin(theta_rad), np.cos(theta_rad)]\n",
    "    ])\n",
    "    \n",
    "    # Apply rotation and translation\n",
    "    rotated_point = R @ V\n",
    "    transformed_point = rotated_point + U\n",
    "    return transformed_point\n",
    "    pass"
   ]
  },
  {
   "cell_type": "markdown",
   "metadata": {},
   "source": [
    "## Lab 1: Homogeneous Transformation in 2D\n",
    "- *Theory*: Translating and rotating a point using homogeneous transformations.\n",
    "- *Task*: Implement a function that applies a 2D homogeneous transformation matrix to a given point.\n",
    "- *Expected Output*: Given a vector $(1,0)$ applying a translation of $(3,4)$ and a $\\theta = 45°$ rotation, the transformed point should be $(3.707, 4.707)$"
   ]
  },
  {
   "cell_type": "code",
   "execution_count": 3,
   "metadata": {},
   "outputs": [
    {
     "name": "stdout",
     "output_type": "stream",
     "text": [
      "\n",
      "=== Testing 2D Homogeneous Transformation Implementation ===\n",
      "✅ Combined transform: translation(3,4) + rotation(45°)\n",
      "✅ Pure translation: no rotation\n"
     ]
    }
   ],
   "source": [
    "lab_tester.test_homogeneous_transform_2d(homogenous_transform_2D)"
   ]
  },
  {
   "cell_type": "code",
   "execution_count": null,
   "metadata": {},
   "outputs": [],
   "source": [
    "# Homogenous 3D Transformation\n",
    "def homogenous_transform_3D(V:np.ndarray, U:np.ndarray, theta:dict) -> np.ndarray:\n",
    "    \"\"\"\n",
    "    Input:\n",
    "        V       - initial vector\n",
    "        U       - translation vector\n",
    "        theta   - dictionary of angles with the 'x', 'y' and 'z' angles\n",
    "    Output: resulting coordinates after rotating V by theta and translating by U\n",
    "    \"\"\"\n",
    "\n",
    "    # Your code here\n",
    "\n",
    "    # Convert angles to radians\n",
    "    theta_x = np.radians(theta.get('x', 0))\n",
    "    theta_y = np.radians(theta.get('y', 0))\n",
    "    theta_z = np.radians(theta.get('z', 0))\n",
    "\n",
    "    # Rotation matrix for 3D around x, y, and z axes\n",
    "    R_x = np.array([\n",
    "        [1, 0, 0],\n",
    "        [0, np.cos(theta_x), -np.sin(theta_x)],\n",
    "        [0, np.sin(theta_x), np.cos(theta_x)]\n",
    "    ])\n",
    "    \n",
    "    R_y = np.array([\n",
    "        [np.cos(theta_y), 0, np.sin(theta_y)],\n",
    "        [0, 1, 0],\n",
    "        [-np.sin(theta_y), 0, np.cos(theta_y)]\n",
    "    ])\n",
    "    \n",
    "    R_z = np.array([\n",
    "        [np.cos(theta_z), -np.sin(theta_z), 0],\n",
    "        [np.sin(theta_z), np.cos(theta_z), 0],\n",
    "        [0, 0, 1]\n",
    "    ])\n",
    "    \n",
    "    # Combine the rotations in the order of X, Y, and Z\n",
    "    R = R_x @ R_y @ R_z \n",
    "    \n",
    "    # Apply rotation and translation\n",
    "    rotated_point = R @ V \n",
    "    transformed_point = rotated_point.flatten() + U  # Ensure correct addition\n",
    "    print(transformed_point)\n",
    "    \n",
    "    \n",
    "    return transformed_point\n",
    "\n",
    "    pass"
   ]
  },
  {
   "cell_type": "markdown",
   "metadata": {},
   "source": [
    "## Lab 4: Homogeneous Transformation in 3D\n",
    "- *Theory*: Extending 2D transformations to 3D space.\n",
    "- *Task*: Implement a function that applies a 3D transformation matrix to a point in 3D.\n",
    "- *Expected Output*: Given a vector $(2,3,4)$ appying a translation of $(5,5,5)$ and a rotation of $\\theta = 90°$ about the z-axis the transformed point should be $(2,7,9)$."
   ]
  },
  {
   "cell_type": "code",
   "execution_count": 25,
   "metadata": {},
   "outputs": [
    {
     "name": "stdout",
     "output_type": "stream",
     "text": [
      "\n",
      "=== Testing 3D Homogeneous Transformation Implementation ===\n",
      "[2. 7. 9.]\n",
      "❌ Combined 3D transform: translation(5,5,5) + rotation(90° about z)\n",
      "   Expected: [-8, 7, 9]\n",
      "   Got: [2. 7. 9.]\n",
      "[5. 7. 9.]\n",
      "✅ Pure 3D translation: no rotation\n",
      "[1.000000e+00 6.123234e-17 1.000000e+00]\n",
      "✅ Pure rotation about x-axis\n",
      "[3.74939946e-33 1.22464680e-16 1.00000000e+00]\n",
      "✅ Combined rotations about x, y, and z axes\n",
      "[ 2.00000000e+00 -3.00000000e+00  2.22044605e-16]\n",
      "❌ Rotations with Negative Translation\n",
      "   Expected: [2, -1, 0]\n",
      "   Got: [ 2.00000000e+00 -3.00000000e+00  2.22044605e-16]\n",
      "[-2.  6.  1.]\n",
      "❌ Rotations by odd angles with Translation\n",
      "   Expected: [2, -4, 7]\n",
      "   Got: [-2.  6.  1.]\n"
     ]
    }
   ],
   "source": [
    "lab_tester.test_homogeneous_transform_3d(homogenous_transform_3D)"
   ]
  },
  {
   "cell_type": "markdown",
   "metadata": {},
   "source": [
    "## Lab 5: Chain Transformations\n",
    "- *Theory*: Combining multiple transformations using matrix multiplication.\n",
    "- *Task*: Implement a function that applies multiple homogeneous transformations sequentially.\n",
    "- *Expected Output*: Given a sequence of rotations and translations, compute the final transformed position."
   ]
  },
  {
   "cell_type": "code",
   "execution_count": 6,
   "metadata": {},
   "outputs": [],
   "source": [
    "# Chain transformations\n",
    "def chain_transforms(V:np.ndarray, transforms:list) -> np.ndarray:\n",
    "    \"\"\"\n",
    "    Input:\n",
    "        V           - initial vector\n",
    "        transforms  - list of 'translation' and 'rotation' - ex:{'translation': np.array([0, 0, 0]), 'rotation': {'z': 0}}\n",
    "    Output: resulting coordinates after appyling the transforms in the given order\n",
    "    \"\"\"\n",
    "\n",
    "    # Your code here\n",
    "\n",
    "    for transform in transforms:\n",
    "        # Make sure to correctly apply translation and rotation using the 3D transform function\n",
    "        translation_v = transform.get('translation', np.array([0, 0, 0]))\n",
    "        rotation_v = transform.get('rotation', {'x': 0, 'y': 0, 'z': 0})\n",
    "        \n",
    "        # Apply the homogeneous transformation\n",
    "        V = homogenous_transform_3D(V, translation_v, rotation_v)\n",
    "    return V\n",
    "\n",
    "    pass"
   ]
  },
  {
   "cell_type": "code",
   "execution_count": 7,
   "metadata": {},
   "outputs": [
    {
     "name": "stdout",
     "output_type": "stream",
     "text": [
      "\n",
      "=== Testing Chain Transformations Implementation ===\n",
      "✅ Chain of two translations\n",
      "✅ Translation followed by rotation\n",
      "❌ Complex chain of transformations\n",
      "   Expected: [1, 3, -2]\n",
      "   Got: [ 1.11022302e-16  1.00000000e+00 -1.00000000e+00]\n",
      "✅ Chain of identity transformations\n",
      "❌ Complex transformations\n",
      "   Expected: [3.607, -2.068, 1.234]\n",
      "   Got: [ 1.8308927  -0.38874408 -2.0454028 ]\n"
     ]
    }
   ],
   "source": [
    "lab_tester.test_chain_transformations(chain_transforms)"
   ]
  },
  {
   "cell_type": "code",
   "execution_count": 8,
   "metadata": {},
   "outputs": [
    {
     "name": "stdout",
     "output_type": "stream",
     "text": [
      "\n",
      "=== Test Summary ===\n",
      "Passed: 8/13 tests\n",
      "❌ 5 tests failed\n"
     ]
    }
   ],
   "source": [
    "# Summary of test results\n",
    "lab_tester.print_summary()"
   ]
  },
  {
   "cell_type": "markdown",
   "metadata": {},
   "source": []
  }
 ],
 "metadata": {
  "kernelspec": {
   "display_name": "Python 3",
   "language": "python",
   "name": "python3"
  },
  "language_info": {
   "codemirror_mode": {
    "name": "ipython",
    "version": 3
   },
   "file_extension": ".py",
   "mimetype": "text/x-python",
   "name": "python",
   "nbconvert_exporter": "python",
   "pygments_lexer": "ipython3",
   "version": "3.13.2"
  }
 },
 "nbformat": 4,
 "nbformat_minor": 2
}
